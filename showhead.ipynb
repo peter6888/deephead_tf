{
 "cells": [
  {
   "cell_type": "markdown",
   "metadata": {},
   "source": [
    "# show head for MPII dataset\n",
    "## To-do:\n",
    "### construct one data and show it\n",
    "### output all head data to a CSV file"
   ]
  },
  {
   "cell_type": "code",
   "execution_count": 3,
   "metadata": {
    "collapsed": true
   },
   "outputs": [],
   "source": [
    "from __future__ import absolute_import\n",
    "from __future__ import division\n",
    "from __future__ import print_function\n",
    "from __future__ import unicode_literals\n",
    "from scipy.io import loadmat\n",
    "izip = zip\n",
    "import json\n",
    "import numpy as np\n",
    "import os"
   ]
  },
  {
   "cell_type": "code",
   "execution_count": 4,
   "metadata": {
    "collapsed": false
   },
   "outputs": [],
   "source": [
    "MPII_DATA_DIR = \"../deeppose_tf/datasets/mpii\"\n",
    "mat = loadmat(os.path.join(MPII_DATA_DIR, 'mpii_human_pose_v1_u12_1.mat'))\n"
   ]
  },
  {
   "cell_type": "code",
   "execution_count": 6,
   "metadata": {
    "collapsed": false,
    "scrolled": false
   },
   "outputs": [
    {
     "name": "stdout",
     "output_type": "stream",
     "text": [
      "[ ([[(array(['037454012.jpg'], \n",
      "      dtype='<U13'),)]], [[(array([[ 3.88073395]]), array([[([[601]], [[380]])]], \n",
      "      dtype=[('x', 'O'), ('y', 'O')]))]], [[]], [[]])\n",
      " ([[(array(['095071431.jpg'], \n",
      "      dtype='<U13'),)]], [[(array([[ 8.07816613]]), array([[([[881]], [[394]])]], \n",
      "      dtype=[('x', 'O'), ('y', 'O')])), (array([[ 8.90412938]]), array([[([[338]], [[210]])]], \n",
      "      dtype=[('x', 'O'), ('y', 'O')]))]], [[]], [[]])\n",
      " ([[(array(['073199394.jpg'], \n",
      "      dtype='<U13'),)]], [[(array([[ 4.32666153]]), array([[([[619]], [[350]])]], \n",
      "      dtype=[('x', 'O'), ('y', 'O')]))]], [[]], [[]])\n",
      " ...,\n",
      " ([[(array(['084761779.jpg'], \n",
      "      dtype='<U13'),)]], [[(array([[287]], dtype=uint16), array([[130]], dtype=uint8), array([[324]], dtype=uint16), array([[163]], dtype=uint8), array([[ ([[(array([[334]], dtype=uint16), array([[225]], dtype=uint8), array([[6]], dtype=uint8), array([[1]], dtype=uint8)), (array([[312]], dtype=uint16), array([[173]], dtype=uint8), array([[7]], dtype=uint8), array([[1]], dtype=uint8)), (array([[ 310.2242]]), array([[ 165.7604]]), array([[8]], dtype=uint8), array([], shape=(0, 0), dtype=uint8)), (array([[ 300.7758]]), array([[ 127.2396]]), array([[9]], dtype=uint8), array([], shape=(0, 0), dtype=uint8)), (array([[362]], dtype=uint16), array([[350]], dtype=uint16), array([[0]], dtype=uint8), array([[1]], dtype=uint8)), (array([[347]], dtype=uint16), array([[297]], dtype=uint16), array([[1]], dtype=uint8), array([[1]], dtype=uint8)), (array([[350]], dtype=uint16), array([[224]], dtype=uint8), array([[2]], dtype=uint8), array([[1]], dtype=uint8)), (array([[317]], dtype=uint16), array([[226]], dtype=uint8), array([[3]], dtype=uint8), array([[1]], dtype=uint8)), (array([[297]], dtype=uint16), array([[290]], dtype=uint16), array([[4]], dtype=uint8), array([[0]], dtype=uint8)), (array([[336]], dtype=uint16), array([[312]], dtype=uint16), array([[5]], dtype=uint8), array([[1]], dtype=uint8)), (array([[310]], dtype=uint16), array([[192]], dtype=uint8), array([[10]], dtype=uint8), array([[0]], dtype=uint8)), (array([[326]], dtype=uint16), array([[186]], dtype=uint8), array([[11]], dtype=uint8), array([[0]], dtype=uint8)), (array([[335]], dtype=uint16), array([[168]], dtype=uint8), array([[12]], dtype=uint8), array([[1]], dtype=uint8)), (array([[288]], dtype=uint16), array([[177]], dtype=uint8), array([[13]], dtype=uint8), array([[1]], dtype=uint8)), (array([[279]], dtype=uint16), array([[199]], dtype=uint8), array([[14]], dtype=uint8), array([[0]], dtype=uint8)), (array([[268]], dtype=uint16), array([[194]], dtype=uint8), array([[15]], dtype=uint8), array([[0]], dtype=uint8))]],)]], \n",
      "      dtype=[('point', 'O')]), array([[ 1.1898773]]), array([[([[330]], [[208]])]], \n",
      "      dtype=[('x', 'O'), ('y', 'O')])), (array([[333]], dtype=uint16), array([[137]], dtype=uint8), array([[361]], dtype=uint16), array([[162]], dtype=uint8), array([[ ([[(array([[391]], dtype=uint16), array([[221]], dtype=uint8), array([[6]], dtype=uint8), array([[1]], dtype=uint8)), (array([[365]], dtype=uint16), array([[172]], dtype=uint8), array([[7]], dtype=uint8), array([[0]], dtype=uint8)), (array([[ 356.3796]]), array([[ 161.2245]]), array([[8]], dtype=uint8), array([], shape=(0, 0), dtype=uint8)), (array([[ 337.6204]]), array([[ 137.7755]]), array([[9]], dtype=uint8), array([], shape=(0, 0), dtype=uint8)), (array([[457]], dtype=uint16), array([[324]], dtype=uint16), array([[0]], dtype=uint8), array([[1]], dtype=uint8)), (array([[420]], dtype=uint16), array([[282]], dtype=uint16), array([[1]], dtype=uint8), array([[1]], dtype=uint8)), (array([[403]], dtype=uint16), array([[219]], dtype=uint8), array([[2]], dtype=uint8), array([[1]], dtype=uint8)), (array([[379]], dtype=uint16), array([[222]], dtype=uint8), array([[3]], dtype=uint8), array([[1]], dtype=uint8)), (array([[355]], dtype=uint16), array([[267]], dtype=uint16), array([[4]], dtype=uint8), array([[0]], dtype=uint8)), (array([[379]], dtype=uint16), array([[314]], dtype=uint16), array([[5]], dtype=uint8), array([[1]], dtype=uint8)), (array([[356]], dtype=uint16), array([[182]], dtype=uint8), array([[10]], dtype=uint8), array([[0]], dtype=uint8)), (array([[373]], dtype=uint16), array([[186]], dtype=uint8), array([[11]], dtype=uint8), array([[0]], dtype=uint8)), (array([[380]], dtype=uint16), array([[172]], dtype=uint8), array([[12]], dtype=uint8), array([[0]], dtype=uint8)), (array([[349]], dtype=uint16), array([[171]], dtype=uint8), array([[13]], dtype=uint8), array([[1]], dtype=uint8)), (array([[334]], dtype=uint16), array([[193]], dtype=uint8), array([[14]], dtype=uint8), array([[0]], dtype=uint8)), (array([[319]], dtype=uint16), array([[194]], dtype=uint8), array([[15]], dtype=uint8), array([[0]], dtype=uint8))]],)]], \n",
      "      dtype=[('point', 'O')]), array([[ 0.90087957]]), array([[([[372]], [[216]])]], \n",
      "      dtype=[('x', 'O'), ('y', 'O')])), (array([[400]], dtype=uint16), array([[140]], dtype=uint8), array([[428]], dtype=uint16), array([[168]], dtype=uint8), array([[ ([[(array([[459]], dtype=uint16), array([[224]], dtype=uint8), array([[6]], dtype=uint8), array([[1]], dtype=uint8)), (array([[418]], dtype=uint16), array([[177]], dtype=uint8), array([[7]], dtype=uint8), array([[0]], dtype=uint8)), (array([[ 416.7139]]), array([[ 169.605]]), array([[8]], dtype=uint8), array([], shape=(0, 0), dtype=uint8)), (array([[ 411.2861]]), array([[ 138.395]]), array([[9]], dtype=uint8), array([], shape=(0, 0), dtype=uint8)), (array([[483]], dtype=uint16), array([[292]], dtype=uint16), array([[0]], dtype=uint8), array([[0]], dtype=uint8)), (array([[442]], dtype=uint16), array([[259]], dtype=uint16), array([[1]], dtype=uint8), array([[0]], dtype=uint8)), (array([[468]], dtype=uint16), array([[221]], dtype=uint8), array([[2]], dtype=uint8), array([[1]], dtype=uint8)), (array([[449]], dtype=uint16), array([[226]], dtype=uint8), array([[3]], dtype=uint8), array([[1]], dtype=uint8)), (array([[461]], dtype=uint16), array([[271]], dtype=uint16), array([[4]], dtype=uint8), array([[1]], dtype=uint8)), (array([[500]], dtype=uint16), array([[315]], dtype=uint16), array([[5]], dtype=uint8), array([[1]], dtype=uint8)), (array([[411]], dtype=uint16), array([[187]], dtype=uint8), array([[10]], dtype=uint8), array([[0]], dtype=uint8)), (array([[427]], dtype=uint16), array([[193]], dtype=uint8), array([[11]], dtype=uint8), array([[0]], dtype=uint8)), (array([[432]], dtype=uint16), array([[175]], dtype=uint8), array([[12]], dtype=uint8), array([[0]], dtype=uint8)), (array([[403]], dtype=uint16), array([[179]], dtype=uint8), array([[13]], dtype=uint8), array([[1]], dtype=uint8)), (array([[403]], dtype=uint16), array([[205]], dtype=uint8), array([[14]], dtype=uint8), array([[0]], dtype=uint8)), (array([[386]], dtype=uint16), array([[198]], dtype=uint8), array([[15]], dtype=uint8), array([[0]], dtype=uint8))]],)]], \n",
      "      dtype=[('point', 'O')]), array([[ 0.95035151]]), array([[([[437]], [[207]])]], \n",
      "      dtype=[('x', 'O'), ('y', 'O')])), (array([[212]], dtype=uint8), array([[153]], dtype=uint8), array([[244]], dtype=uint8), array([[173]], dtype=uint8), array([[ ([[(array([[263]], dtype=uint16), array([[225]], dtype=uint8), array([[6]], dtype=uint8), array([[1]], dtype=uint8)), (array([[233]], dtype=uint8), array([[179]], dtype=uint8), array([[7]], dtype=uint8), array([[0]], dtype=uint8)), (array([[ 232.5023]]), array([[ 177.4073]]), array([[8]], dtype=uint8), array([], shape=(0, 0), dtype=uint8)), (array([[ 223.4977]]), array([[ 148.5927]]), array([[9]], dtype=uint8), array([], shape=(0, 0), dtype=uint8)), (array([[280]], dtype=uint16), array([[287]], dtype=uint16), array([[1]], dtype=uint8), array([[1]], dtype=uint8)), (array([[277]], dtype=uint16), array([[224]], dtype=uint8), array([[2]], dtype=uint8), array([[1]], dtype=uint8)), (array([[248]], dtype=uint8), array([[225]], dtype=uint8), array([[3]], dtype=uint8), array([[1]], dtype=uint8)), (array([[222]], dtype=uint8), array([[280]], dtype=uint16), array([[4]], dtype=uint8), array([[1]], dtype=uint8)), (array([[237]], dtype=uint8), array([[192]], dtype=uint8), array([[10]], dtype=uint8), array([[0]], dtype=uint8)), (array([[249]], dtype=uint8), array([[193]], dtype=uint8), array([[11]], dtype=uint8), array([[0]], dtype=uint8)), (array([[251]], dtype=uint8), array([[178]], dtype=uint8), array([[12]], dtype=uint8), array([[0]], dtype=uint8)), (array([[214]], dtype=uint8), array([[179]], dtype=uint8), array([[13]], dtype=uint8), array([[1]], dtype=uint8)), (array([[190]], dtype=uint8), array([[202]], dtype=uint8), array([[14]], dtype=uint8), array([[1]], dtype=uint8)), (array([[190]], dtype=uint8), array([[201]], dtype=uint8), array([[15]], dtype=uint8), array([[0]], dtype=uint8))]],)]], \n",
      "      dtype=[('point', 'O')]), array([[ 0.90566219]]), array([[([[230]], [[216]])]], \n",
      "      dtype=[('x', 'O'), ('y', 'O')])), (array([[0]], dtype=uint8), array([[135]], dtype=uint8), array([[76]], dtype=uint8), array([[216]], dtype=uint8), array([[ ([[(array([[68]], dtype=uint8), array([[416]], dtype=uint16), array([[6]], dtype=uint8), array([[1]], dtype=uint8)), (array([[107]], dtype=uint8), array([[413]], dtype=uint16), array([[2]], dtype=uint8), array([[1]], dtype=uint8)), (array([[29]], dtype=uint8), array([[419]], dtype=uint16), array([[3]], dtype=uint8), array([[1]], dtype=uint8)), (array([[167]], dtype=uint8), array([[342]], dtype=uint16), array([[10]], dtype=uint8), array([[1]], dtype=uint8)), (array([[132]], dtype=uint8), array([[316]], dtype=uint16), array([[11]], dtype=uint8), array([[1]], dtype=uint8)), (array([[91]], dtype=uint8), array([[237]], dtype=uint8), array([[12]], dtype=uint8), array([[1]], dtype=uint8))]],)]], \n",
      "      dtype=[('point', 'O')]), array([[ 2.66572917]]), array([[([[62]], [[338]])]], \n",
      "      dtype=[('x', 'O'), ('y', 'O')]))]], [[158]], [[793]])\n",
      " ([[(array(['092025825.jpg'], \n",
      "      dtype='<U13'),)]], [[(array([[ 9.88033684]]), array([[([[1224]], [[553]])]], \n",
      "      dtype=[('x', 'O'), ('y', 'O')])), (array([[ 8.61950903]]), array([[([[473]], [[587]])]], \n",
      "      dtype=[('x', 'O'), ('y', 'O')]))]], [[]], [[]])\n",
      " ([[(array(['053686627.jpg'], \n",
      "      dtype='<U13'),)]], [[(array([[ 8.84412212]]), array([[([[1277]], [[681]])]], \n",
      "      dtype=[('x', 'O'), ('y', 'O')])), (array([[ 8.73336224]]), array([[([[526]], [[503]])]], \n",
      "      dtype=[('x', 'O'), ('y', 'O')]))]], [[]], [[]])]\n"
     ]
    }
   ],
   "source": [
    "print(mat['RELEASE']['annolist'][0,0][0])"
   ]
  },
  {
   "cell_type": "code",
   "execution_count": null,
   "metadata": {
    "collapsed": true
   },
   "outputs": [],
   "source": []
  }
 ],
 "metadata": {
  "anaconda-cloud": {},
  "kernelspec": {
   "display_name": "Python [default]",
   "language": "python",
   "name": "python3"
  },
  "language_info": {
   "codemirror_mode": {
    "name": "ipython",
    "version": 3
   },
   "file_extension": ".py",
   "mimetype": "text/x-python",
   "name": "python",
   "nbconvert_exporter": "python",
   "pygments_lexer": "ipython3",
   "version": "3.5.2"
  }
 },
 "nbformat": 4,
 "nbformat_minor": 1
}
