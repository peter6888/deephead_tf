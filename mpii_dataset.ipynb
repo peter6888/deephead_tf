{
 "cells": [
  {
   "cell_type": "code",
   "execution_count": 10,
   "metadata": {
    "collapsed": false,
    "deletable": true,
    "editable": true
   },
   "outputs": [],
   "source": [
    "#prepress MPII dataset\n",
    "from __future__ import absolute_import\n",
    "from __future__ import division\n",
    "from __future__ import print_function\n",
    "from __future__ import unicode_literals\n",
    "from scipy.io import loadmat\n",
    "izip = zip\n",
    "import json\n",
    "import numpy as np"
   ]
  },
  {
   "cell_type": "code",
   "execution_count": 11,
   "metadata": {
    "collapsed": true,
    "deletable": true,
    "editable": true
   },
   "outputs": [],
   "source": [
    "def fix_wrong_joints(joint):\n",
    "    if '12' in joint and '13' in joint and '2' in joint and '3' in joint:\n",
    "        if ((joint['12'][0] < joint['13'][0]) and\n",
    "                (joint['3'][0] < joint['2'][0])):\n",
    "            joint['2'], joint['3'] = joint['3'], joint['2']\n",
    "        if ((joint['12'][0] > joint['13'][0]) and\n",
    "                (joint['3'][0] > joint['2'][0])):\n",
    "            joint['2'], joint['3'] = joint['3'], joint['2']\n",
    "\n",
    "    return joint\n",
    "\n",
    "\n",
    "def save_joints():\n",
    "    \"\"\"\n",
    "    Convert annotations mat file to json and save on disk.\n",
    "    Only persons with annotations of all 16 joints will be written in the json.\n",
    "    \"\"\"\n",
    "    joint_data_fn = os.path.join(MPII_OUT_DIR, 'data.json')\n",
    "    mat = loadmat(os.path.join(MPII_DATA_DIR, 'mpii_human_pose_v1_u12_1.mat'))\n",
    "\n",
    "    fp = open(joint_data_fn, 'w')\n",
    "\n",
    "    for i, (anno, train_flag) in enumerate(\n",
    "        izip(mat['RELEASE']['annolist'][0, 0][0],\n",
    "            mat['RELEASE']['img_train'][0, 0][0])):\n",
    "\n",
    "        img_fn = anno['image']['name'][0, 0][0]\n",
    "        train_flag = int(train_flag)\n",
    "\n",
    "        if 'annopoints' in str(anno['annorect'].dtype):\n",
    "            annopoints = anno['annorect']['annopoints'][0]\n",
    "            head_x1s = anno['annorect']['x1'][0]\n",
    "            head_y1s = anno['annorect']['y1'][0]\n",
    "            head_x2s = anno['annorect']['x2'][0]\n",
    "            head_y2s = anno['annorect']['y2'][0]\n",
    "            for annopoint, head_x1, head_y1, head_x2, head_y2 in \\\n",
    "                    izip(annopoints, head_x1s, head_y1s, head_x2s, head_y2s):\n",
    "                if len(annopoint) > 0:\n",
    "                    head_rect = [float(head_x1[0, 0]),\n",
    "                                 float(head_y1[0, 0]),\n",
    "                                 float(head_x2[0, 0]),\n",
    "                                 float(head_y2[0, 0])]\n",
    "\n",
    "                    # joint coordinates\n",
    "                    annopoint = annopoint['point'][0, 0]\n",
    "                    j_id = [str(j_i[0, 0]) for j_i in annopoint['id'][0]]\n",
    "                    x = [x[0, 0] for x in annopoint['x'][0]]\n",
    "                    y = [y[0, 0] for y in annopoint['y'][0]]\n",
    "                    joint_pos = {}\n",
    "                    for _j_id, (_x, _y) in zip(j_id, zip(x, y)):\n",
    "                        joint_pos[str(_j_id)] = [float(_x), float(_y)]\n",
    "                    # joint_pos = fix_wrong_joints(joint_pos)\n",
    "\n",
    "                    # visiblity list\n",
    "                    if 'is_visible' in str(annopoint.dtype):\n",
    "                        vis = [v[0] if v else [0]\n",
    "                               for v in annopoint['is_visible'][0]]\n",
    "                        vis = dict([(k, int(v[0])) if len(v) > 0 else v\n",
    "                                    for k, v in zip(j_id, vis)])\n",
    "                    else:\n",
    "                        vis = None\n",
    "\n",
    "                    if len(joint_pos) == 16:\n",
    "                        data = {\n",
    "                            'filename': img_fn,\n",
    "                            'train': train_flag,\n",
    "                            'head_rect': head_rect,\n",
    "                            'is_visible': vis,\n",
    "                            'joint_pos': joint_pos\n",
    "                        }\n",
    "\n",
    "                        print(json.dumps(data), file=fp)\n",
    "\n",
    "\n",
    "def write_line(datum, fp):\n",
    "    \"\"\"\n",
    "    Write a line in format:\n",
    "      image_name, x1, y1, x2,y2, ...\n",
    "      where xi, yi - coordinates of the i-th joint\n",
    "    \"\"\"\n",
    "    joints = sorted([[int(k), v] for k, v in datum['joint_pos'].items()])\n",
    "    joints = np.array([j for i, j in joints]).flatten()\n",
    "\n",
    "    out = [datum['filename']]\n",
    "    out.extend(joints)\n",
    "    out = [str(o) for o in out]\n",
    "    out = ','.join(out)\n",
    "\n",
    "    print(out, file=fp)\n",
    "\n",
    "\n",
    "def split_train_test():\n",
    "    fp_test = open(os.path.join(MPII_OUT_DIR, 'test_joints.csv'), 'w')\n",
    "    fp_train = open(os.path.join(MPII_OUT_DIR, 'train_joints.csv'), 'w')\n",
    "    all_data = open(os.path.join(MPII_OUT_DIR, 'data.json')).readlines()\n",
    "    N = len(all_data)\n",
    "    N_test = int(N * 0.1)\n",
    "    N_train = N - N_test\n",
    "\n",
    "    print('N:{}'.format(N))\n",
    "    print('N_train:{}'.format(N_train))\n",
    "    print('N_test:{}'.format(N_test))\n",
    "\n",
    "    np.random.seed(1701)\n",
    "    perm = np.random.permutation(N)\n",
    "    test_indices = perm[:N_test]\n",
    "    train_indices = perm[N_test:]\n",
    "\n",
    "    print('train_indices:{}'.format(len(train_indices)))\n",
    "    print('test_indices:{}'.format(len(test_indices)))\n",
    "\n",
    "    for i in train_indices:\n",
    "        datum = json.loads(all_data[i].strip())\n",
    "        write_line(datum, fp_train)\n",
    "\n",
    "    for i in test_indices:\n",
    "        datum = json.loads(all_data[i].strip())\n",
    "        write_line(datum, fp_test)"
   ]
  },
  {
   "cell_type": "code",
   "execution_count": 12,
   "metadata": {
    "collapsed": true,
    "deletable": true,
    "editable": true
   },
   "outputs": [],
   "source": [
    "import os\n",
    "\n",
    "# Full path to the project root\n",
    "ROOT_DIR = os.path.expanduser('~/notebooks/deeppose_tf')\n",
    "OUTPUT_DIR = os.path.join(ROOT_DIR, 'out')\n",
    "LSP_DATASET_ROOT = os.path.join(ROOT_DIR, 'datasets/lsp')\n",
    "LSP_EXT_DATASET_ROOT = os.path.join(ROOT_DIR, 'datasets/lsp_ext')\n",
    "MPII_DATASET_ROOT = os.path.join(ROOT_DIR, 'datasets/mpii')\n",
    "MPII_DATA_DIR = MPII_DATASET_ROOT\n",
    "MPII_OUT_DIR = MPII_DATASET_ROOT"
   ]
  },
  {
   "cell_type": "code",
   "execution_count": 13,
   "metadata": {
    "collapsed": false
   },
   "outputs": [
    {
     "name": "stdout",
     "output_type": "stream",
     "text": [
      "/home/stonepeter/notebooks/deeppose_tf/datasets/mpii\n"
     ]
    }
   ],
   "source": [
    "print(MPII_DATASET_ROOT)"
   ]
  },
  {
   "cell_type": "code",
   "execution_count": 14,
   "metadata": {
    "collapsed": false
   },
   "outputs": [
    {
     "name": "stdout",
     "output_type": "stream",
     "text": [
      "N:19919\n",
      "N_train:17928\n",
      "N_test:1991\n",
      "train_indices:17928\n",
      "test_indices:1991\n"
     ]
    }
   ],
   "source": [
    "save_joints()\n",
    "split_train_test()"
   ]
  },
  {
   "cell_type": "code",
   "execution_count": null,
   "metadata": {
    "collapsed": true
   },
   "outputs": [],
   "source": []
  }
 ],
 "metadata": {
  "kernelspec": {
   "display_name": "Python 3",
   "language": "python",
   "name": "python3"
  },
  "language_info": {
   "codemirror_mode": {
    "name": "ipython",
    "version": 3
   },
   "file_extension": ".py",
   "mimetype": "text/x-python",
   "name": "python",
   "nbconvert_exporter": "python",
   "pygments_lexer": "ipython3",
   "version": "3.5.2"
  }
 },
 "nbformat": 4,
 "nbformat_minor": 2
}
