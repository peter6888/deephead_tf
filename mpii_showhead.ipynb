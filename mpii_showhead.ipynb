{
 "cells": [
  {
   "cell_type": "code",
   "execution_count": 1,
   "metadata": {
    "collapsed": false
   },
   "outputs": [],
   "source": [
    "import cmd_options\n",
    "import dataset"
   ]
  },
  {
   "cell_type": "code",
   "execution_count": 2,
   "metadata": {
    "collapsed": false
   },
   "outputs": [],
   "source": [
    "import sys\n",
    "import shlex\n",
    "import os.path\n",
    "\n",
    "argv = \"\"\"\n",
    "--max_iter 1000000 \\\n",
    "--batch_size 128 \\\n",
    "--snapshot_step 5000 \\\n",
    "--test_step 250 \\\n",
    "--log_step 2 \\\n",
    "--dataset_name mpii\n",
    "--train_csv_fn {0}/datasets/mpii/train_joints.csv \\\n",
    "--test_csv_fn {0}/datasets/mpii/test_joints.csv \\\n",
    "--val_csv_fn '' \\\n",
    "--img_path_prefix {0}/datasets/mpii/images \\\n",
    "--should_downscale_images \\\n",
    "--downscale_height 400 \\\n",
    "--n_joints 16 \\\n",
    "--seed 1701 \\\n",
    "--im_size 227 \\\n",
    "--min_dim 6 \\\n",
    "--shift 0.1 \\\n",
    "--bbox_extension_min 1.0 \\\n",
    "--bbox_extension_max 1.2 \\\n",
    "--coord_normalize \\\n",
    "--fname_index 0 \\\n",
    "--joint_index 1 \\\n",
    "--ignore_label -100500 \\\n",
    "--symmetric_joints \"[[12, 13], [11, 14], [10, 15], [2, 3], [1, 4], [0, 5]]\" \\\n",
    "--conv_lr 0.0005 \\\n",
    "--fc_lr 0.0005 \\\n",
    "--fix_conv_iter 0 \\\n",
    "--optimizer adagrad \\\n",
    "--o_dir {0}/out/mpii_alexnet_imagenet \\\n",
    "--gcn \\\n",
    "--fliplr \\\n",
    "--workers 4 \\\n",
    "--net_type Alexnet \\\n",
    "-s {0}/weights/bvlc_alexnet.tf \\\n",
    "--reset_iter_counter \\\n",
    "\"\"\".format('../deeppose_tf')"
   ]
  },
  {
   "cell_type": "code",
   "execution_count": 3,
   "metadata": {
    "collapsed": false
   },
   "outputs": [
    {
     "name": "stdout",
     "output_type": "stream",
     "text": [
      "['--max_iter', '1000000', '--batch_size', '128', '--snapshot_step', '5000', '--test_step', '250', '--log_step', '2', '--dataset_name', 'mpii', '--train_csv_fn', '../deeppose_tf/datasets/mpii/train_joints.csv', '--test_csv_fn', '../deeppose_tf/datasets/mpii/test_joints.csv', '--val_csv_fn', '', '--img_path_prefix', '../deeppose_tf/datasets/mpii/images', '--should_downscale_images', '--downscale_height', '400', '--n_joints', '16', '--seed', '1701', '--im_size', '227', '--min_dim', '6', '--shift', '0.1', '--bbox_extension_min', '1.0', '--bbox_extension_max', '1.2', '--coord_normalize', '--fname_index', '0', '--joint_index', '1', '--ignore_label', '-100500', '--symmetric_joints', '[[12, 13], [11, 14], [10, 15], [2, 3], [1, 4], [0, 5]]', '--conv_lr', '0.0005', '--fc_lr', '0.0005', '--fix_conv_iter', '0', '--optimizer', 'adagrad', '--o_dir', '../deeppose_tf/out/mpii_alexnet_imagenet', '--gcn', '--fliplr', '--workers', '4', '--net_type', 'Alexnet', '-s', '../deeppose_tf/weights/bvlc_alexnet.tf', '--reset_iter_counter']\n"
     ]
    }
   ],
   "source": [
    "argv = shlex.split(argv)\n",
    "print(argv)"
   ]
  },
  {
   "cell_type": "code",
   "execution_count": 4,
   "metadata": {
    "collapsed": false
   },
   "outputs": [
    {
     "name": "stdout",
     "output_type": "stream",
     "text": [
      "Namespace(batch_size=128, bbox_extension_max=1.2, bbox_extension_min=1.0, conv_lr=0.0005, coord_normalize=True, dataset_name='mpii', downscale_height=400, fc_lr=0.0005, fix_conv_iter=0, fliplr=True, fname_index=0, gcn=True, ignore_label=-100500.0, im_size=227, img_path_prefix='../deeppose_tf/datasets/mpii/images', joint_index=1, log_step=2, max_iter=1000000, min_dim=6, n_joints=16, net_type='Alexnet', o_dir='../deeppose_tf/out/mpii_alexnet_imagenet', optimizer='adagrad', reset_iter_counter=True, reset_moving_averages=False, resume=False, rotate=False, rotate_range=10, seed=1701, shift=0.1, should_downscale_images=True, snapshot='../deeppose_tf/weights/bvlc_alexnet.tf', snapshot_step=5000, symmetric_joints='[[12, 13], [11, 14], [10, 15], [2, 3], [1, 4], [0, 5]]', test_csv_fn='../deeppose_tf/datasets/mpii/test_joints.csv', test_step=250, train_csv_fn='../deeppose_tf/datasets/mpii/train_joints.csv', val_csv_fn='', workers=4)\n"
     ]
    }
   ],
   "source": [
    "args = cmd_options.get_arguments(argv)\n",
    "print(args)"
   ]
  },
  {
   "cell_type": "code",
   "execution_count": 5,
   "metadata": {
    "collapsed": false
   },
   "outputs": [],
   "source": [
    "from __future__ import division\n",
    "from chainer import iterators\n",
    "import cmd_options\n",
    "import dataset\n",
    "import os\n",
    "import time\n",
    "#import regressionnet\n",
    "import tensorflow as tf\n",
    "import copy\n",
    "from tqdm import tqdm\n",
    "import numpy as np\n",
    "import math\n",
    "import pprint\n",
    "import datetime"
   ]
  },
  {
   "cell_type": "code",
   "execution_count": 6,
   "metadata": {
    "collapsed": false
   },
   "outputs": [],
   "source": [
    "if not os.path.exists(args.o_dir):\n",
    "    os.makedirs(args.o_dir)\n",
    "suffix = datetime.datetime.now().strftime(\"%y%m%d_%H%M%S\")\n",
    "with open(os.path.join(args.o_dir, 'params.dump_{}.txt'.format(suffix)), 'w') as f:\n",
    "    f.write('{}\\n'.format(pprint.pformat(args)))"
   ]
  },
  {
   "cell_type": "code",
   "execution_count": 7,
   "metadata": {
    "collapsed": false
   },
   "outputs": [
    {
     "name": "stderr",
     "output_type": "stream",
     "text": [
      "\r",
      "0it [00:00, ?it/s]"
     ]
    },
    {
     "name": "stdout",
     "output_type": "stream",
     "text": [
      "Reading dataset from ../deeppose_tf/datasets/mpii/train_joints.csv\n",
      "Downscale images to the height 400px\n"
     ]
    },
    {
     "name": "stderr",
     "output_type": "stream",
     "text": [
      "2673it [00:52, 50.81it/s]/home/stonepeter/notebooks/deephead_tf/dataset.py:111: UserWarning: Skipping joint with incorrect joints coordinates. They are out of the image.\n",
      "image: ../deeppose_tf/datasets/mpii/images/066231791.jpg, joint: [ 427.77777778  405.        ], im.shape: (400, 711)\n",
      "  'image: {}, joint: {}, im.shape: {}'.format(img_path, joints[i_joint], image_shape[:2]))\n",
      "3092it [00:59, 51.79it/s]/home/stonepeter/notebooks/deephead_tf/dataset.py:111: UserWarning: Skipping joint with incorrect joints coordinates. They are out of the image.\n",
      "image: ../deeppose_tf/datasets/mpii/images/052008994.jpg, joint: [ 714.44444444  269.44444444], im.shape: (400, 711)\n",
      "  'image: {}, joint: {}, im.shape: {}'.format(img_path, joints[i_joint], image_shape[:2]))\n",
      "3454it [01:05, 52.53it/s]/home/stonepeter/notebooks/deephead_tf/dataset.py:111: UserWarning: Skipping joint with incorrect joints coordinates. They are out of the image.\n",
      "image: ../deeppose_tf/datasets/mpii/images/072865628.jpg, joint: [ 278.88888889  403.88888889], im.shape: (400, 711)\n",
      "  'image: {}, joint: {}, im.shape: {}'.format(img_path, joints[i_joint], image_shape[:2]))\n",
      "3625it [01:08, 52.91it/s]/home/stonepeter/notebooks/deephead_tf/dataset.py:111: UserWarning: Skipping joint with incorrect joints coordinates. They are out of the image.\n",
      "image: ../deeppose_tf/datasets/mpii/images/093016520.jpg, joint: [ 405.          452.22222222], im.shape: (400, 711)\n",
      "  'image: {}, joint: {}, im.shape: {}'.format(img_path, joints[i_joint], image_shape[:2]))\n",
      "3660it [01:09, 52.93it/s]/home/stonepeter/notebooks/deephead_tf/dataset.py:111: UserWarning: Skipping joint with incorrect joints coordinates. They are out of the image.\n",
      "image: ../deeppose_tf/datasets/mpii/images/027470503.jpg, joint: [ 120.55555556  405.        ], im.shape: (400, 711)\n",
      "  'image: {}, joint: {}, im.shape: {}'.format(img_path, joints[i_joint], image_shape[:2]))\n",
      "3978it [01:14, 53.61it/s]/home/stonepeter/notebooks/deephead_tf/dataset.py:111: UserWarning: Skipping joint with incorrect joints coordinates. They are out of the image.\n",
      "image: ../deeppose_tf/datasets/mpii/images/045488645.jpg, joint: [ 715.          253.33333333], im.shape: (400, 711)\n",
      "  'image: {}, joint: {}, im.shape: {}'.format(img_path, joints[i_joint], image_shape[:2]))\n",
      "4217it [01:18, 53.99it/s]/home/stonepeter/notebooks/deephead_tf/dataset.py:111: UserWarning: Skipping joint with incorrect joints coordinates. They are out of the image.\n",
      "image: ../deeppose_tf/datasets/mpii/images/011121658.jpg, joint: [ 546.21625  244.9185 ], im.shape: (400, 533)\n",
      "  'image: {}, joint: {}, im.shape: {}'.format(img_path, joints[i_joint], image_shape[:2]))\n",
      "6316it [01:48, 58.03it/s]/home/stonepeter/notebooks/deephead_tf/dataset.py:111: UserWarning: Skipping joint with incorrect joints coordinates. They are out of the image.\n",
      "image: ../deeppose_tf/datasets/mpii/images/057678971.jpg, joint: [ 717.09974074  130.53933333], im.shape: (400, 711)\n",
      "  'image: {}, joint: {}, im.shape: {}'.format(img_path, joints[i_joint], image_shape[:2]))\n",
      "9578it [02:29, 63.94it/s]/home/stonepeter/notebooks/deephead_tf/dataset.py:111: UserWarning: Skipping joint with incorrect joints coordinates. They are out of the image.\n",
      "image: ../deeppose_tf/datasets/mpii/images/034397964.jpg, joint: [ 271.11111111  410.37037037], im.shape: (400, 711)\n",
      "  'image: {}, joint: {}, im.shape: {}'.format(img_path, joints[i_joint], image_shape[:2]))\n",
      "12970it [03:07, 69.16it/s]/home/stonepeter/notebooks/deephead_tf/dataset.py:111: UserWarning: Skipping joint with incorrect joints coordinates. They are out of the image.\n",
      "image: ../deeppose_tf/datasets/mpii/images/043539632.jpg, joint: [ 305.          421.11111111], im.shape: (400, 711)\n",
      "  'image: {}, joint: {}, im.shape: {}'.format(img_path, joints[i_joint], image_shape[:2]))\n",
      "16963it [03:45, 75.21it/s]/home/stonepeter/notebooks/deephead_tf/dataset.py:111: UserWarning: Skipping joint with incorrect joints coordinates. They are out of the image.\n",
      "image: ../deeppose_tf/datasets/mpii/images/027622731.jpg, joint: [ 251.66666667  408.33333333], im.shape: (400, 711)\n",
      "  'image: {}, joint: {}, im.shape: {}'.format(img_path, joints[i_joint], image_shape[:2]))\n",
      "17644it [03:52, 76.04it/s]/home/stonepeter/notebooks/deephead_tf/dataset.py:111: UserWarning: Skipping joint with incorrect joints coordinates. They are out of the image.\n",
      "image: ../deeppose_tf/datasets/mpii/images/082248056.jpg, joint: [ 735.31914894  175.31914894], im.shape: (400, 727)\n",
      "  'image: {}, joint: {}, im.shape: {}'.format(img_path, joints[i_joint], image_shape[:2]))\n",
      "17928it [03:54, 76.43it/s]\n",
      "7it [00:00, 68.07it/s]"
     ]
    },
    {
     "name": "stdout",
     "output_type": "stream",
     "text": [
      "Joints shape: (16, 2)\n",
      "Reading dataset from ../deeppose_tf/datasets/mpii/test_joints.csv\n",
      "Downscale images to the height 400px\n"
     ]
    },
    {
     "name": "stderr",
     "output_type": "stream",
     "text": [
      "818it [00:17, 47.86it/s]/home/stonepeter/notebooks/deephead_tf/dataset.py:111: UserWarning: Skipping joint with incorrect joints coordinates. They are out of the image.\n",
      "image: ../deeppose_tf/datasets/mpii/images/091322969.jpg, joint: [ 508.14814815  405.92592593], im.shape: (400, 711)\n",
      "  'image: {}, joint: {}, im.shape: {}'.format(img_path, joints[i_joint], image_shape[:2]))\n",
      "1555it [00:31, 49.81it/s]/home/stonepeter/notebooks/deephead_tf/dataset.py:111: UserWarning: Skipping joint with incorrect joints coordinates. They are out of the image.\n",
      "image: ../deeppose_tf/datasets/mpii/images/045623651.jpg, joint: [ 420.   452.5], im.shape: (400, 712)\n",
      "  'image: {}, joint: {}, im.shape: {}'.format(img_path, joints[i_joint], image_shape[:2]))\n",
      "1991it [00:39, 50.62it/s]"
     ]
    },
    {
     "name": "stdout",
     "output_type": "stream",
     "text": [
      "Joints shape: (16, 2)\n"
     ]
    },
    {
     "name": "stderr",
     "output_type": "stream",
     "text": [
      "\n"
     ]
    }
   ],
   "source": [
    "bbox_extension_range = (args.bbox_extension_min, args.bbox_extension_max)\n",
    "if bbox_extension_range[0] is None or bbox_extension_range[1] is None:\n",
    "    bbox_extension_range = None\n",
    "    test_bbox_extension_range = None\n",
    "else:\n",
    "    test_bbox_extension_range = (bbox_extension_range[1], bbox_extension_range[1])\n",
    "\n",
    "train_dataset = dataset.PoseDataset(\n",
    "    args.train_csv_fn, args.img_path_prefix, args.im_size,\n",
    "    fliplr=args.fliplr,\n",
    "    rotate=args.rotate,\n",
    "    rotate_range=args.rotate_range,\n",
    "    shift=args.shift,\n",
    "    bbox_extension_range=bbox_extension_range,\n",
    "    min_dim=args.min_dim,\n",
    "    coord_normalize=args.coord_normalize,\n",
    "    gcn=args.gcn,\n",
    "    fname_index=args.fname_index,\n",
    "    joint_index=args.joint_index,\n",
    "    symmetric_joints=args.symmetric_joints,\n",
    "    ignore_label=args.ignore_label,\n",
    "    should_downscale_images=args.should_downscale_images,\n",
    "    downscale_height=args.downscale_height\n",
    ")\n",
    "test_dataset = dataset.PoseDataset(\n",
    "    args.test_csv_fn, args.img_path_prefix, args.im_size,\n",
    "    fliplr=False, rotate=False,\n",
    "    shift=None,\n",
    "    bbox_extension_range=test_bbox_extension_range,\n",
    "    coord_normalize=args.coord_normalize,\n",
    "    gcn=args.gcn,\n",
    "    fname_index=args.fname_index,\n",
    "    joint_index=args.joint_index,\n",
    "    symmetric_joints=args.symmetric_joints,\n",
    "    ignore_label=args.ignore_label,\n",
    "    should_return_bbox=True,\n",
    "    should_downscale_images=args.should_downscale_images,\n",
    "    downscale_height=args.downscale_height\n",
    ")"
   ]
  },
  {
   "cell_type": "code",
   "execution_count": 9,
   "metadata": {
    "collapsed": false
   },
   "outputs": [],
   "source": [
    "import regressionnet\n",
    "from regressionnet import evaluate_pcp, create_sumamry"
   ]
  },
  {
   "cell_type": "code",
   "execution_count": null,
   "metadata": {
    "collapsed": true
   },
   "outputs": [],
   "source": []
  }
 ],
 "metadata": {
  "kernelspec": {
   "display_name": "Python 3",
   "language": "python",
   "name": "python3"
  },
  "language_info": {
   "codemirror_mode": {
    "name": "ipython",
    "version": 3
   },
   "file_extension": ".py",
   "mimetype": "text/x-python",
   "name": "python",
   "nbconvert_exporter": "python",
   "pygments_lexer": "ipython3",
   "version": "3.5.2"
  }
 },
 "nbformat": 4,
 "nbformat_minor": 2
}
